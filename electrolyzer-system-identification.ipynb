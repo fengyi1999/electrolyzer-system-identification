{
 "cells": [
  {
   "cell_type": "markdown",
   "metadata": {},
   "source": [
    "# Task description block\n",
    "\n",
    "Given data:\n",
    "- empiric electrolyzer's stack voltage and current over time\n",
    "\n",
    "Goal:\n",
    "- Build AEM electrolyzer parametric model.\n",
    "- Build \n",
    "\n",
    "Plan:\n",
    "1. Build electrolyzer model (= parametric equation of polarization curve).\n",
    "2. Determine model parameters using part of given data .\n",
    "3. Ensure parameters are correct using the other part of given data."
   ]
  },
  {
   "cell_type": "markdown",
   "metadata": {},
   "source": [
    "# Theory block\n",
    "\n",
    "Electrolysis cell potential:\n",
    "$$\n",
    "V_{cell} = V_{reversible} + V_{activation} + V_{ohmic} + V_{mass\\_transfer}\n",
    "$$\n",
    "<img src=\"img/polarization-curve-detailed.png\" width=\"40%\"/>\n",
    "\n",
    "### Reversible potential"
   ]
  },
  {
   "cell_type": "markdown",
   "metadata": {},
   "source": [
    "Important points\n",
    "\n",
    "- 1st Faraday law: m/Q = Z\n",
    "where m is a mass of a substance deposited or liberate at an electrode, Q is a charge on electrode, Z is electro-chemical equivalent of the substance.\n",
    "i.e. production rate is linear of stack/cell current\n",
    "\n",
    "- 2nd Faraday law: M (molar mass)/ v (valence) = E (equivalent weight)\n",
    "\n",
    "- V_cell = V_rev + V_ohm + V_act"
   ]
  },
  {
   "cell_type": "code",
   "execution_count": 9,
   "metadata": {},
   "outputs": [],
   "source": [
    "import numpy as np\n",
    "from scipy.optimize import curve_fit\n",
    "from scipy import constants"
   ]
  },
  {
   "cell_type": "code",
   "execution_count": null,
   "metadata": {},
   "outputs": [],
   "source": []
  },
  {
   "cell_type": "code",
   "execution_count": 10,
   "metadata": {},
   "outputs": [
    {
     "ename": "SyntaxError",
     "evalue": "invalid syntax. Perhaps you forgot a comma? (449451698.py, line 16)",
     "output_type": "error",
     "traceback": [
      "\u001b[1;36m  Cell \u001b[1;32mIn[10], line 16\u001b[1;36m\u001b[0m\n\u001b[1;33m    T_data = np.array([your temperature measurements])\u001b[0m\n\u001b[1;37m                       ^\u001b[0m\n\u001b[1;31mSyntaxError\u001b[0m\u001b[1;31m:\u001b[0m invalid syntax. Perhaps you forgot a comma?\n"
     ]
    }
   ],
   "source": [
    "# Your model function\n",
    "def polarization_function(T_i, r, alpha, i_0):\n",
    "    T, i = T_i\n",
    "    \n",
    "    V_0 = 1.229 - 8.5 * 10**(-4) * (T - 298)\n",
    "    V_rev = V_0\n",
    "\n",
    "    V_ohm = i * r\n",
    "    faraday_constant = constants.e * constants.N_A\n",
    "\n",
    "    V_act = 2 * ((constants.R * T) / (alpha * faraday_constant)) * np.arcsinh(i / i_0)\n",
    "\n",
    "    return V_rev + V_ohm + V_act\n",
    "\n",
    "# Example data (replace with your measurements)\n",
    "T_data = np.array([your temperature measurements])\n",
    "i_data = np.array([your current measurements])\n",
    "u_data = np.array([your voltage measurements])\n",
    "\n",
    "T_i_data = np.vstack((T_data, i_data))\n",
    "\n",
    "# Perform the curve fitting\n",
    "popt, pcov = curve_fit(polarization_function, T_i_data, u_data)\n",
    "\n",
    "r, alpha, i = popt  # Optimized parameters\n",
    "print(f\"Optimized parameters: r = {r}, alpha = {alpha}, i = {i}\")\n"
   ]
  },
  {
   "cell_type": "code",
   "execution_count": null,
   "metadata": {},
   "outputs": [],
   "source": []
  }
 ],
 "metadata": {
  "kernelspec": {
   "display_name": "electrolyzer_simple_model_kernel",
   "language": "python",
   "name": "electrolyzer_simple_model_kernel"
  },
  "language_info": {
   "codemirror_mode": {
    "name": "ipython",
    "version": 3
   },
   "file_extension": ".py",
   "mimetype": "text/x-python",
   "name": "python",
   "nbconvert_exporter": "python",
   "pygments_lexer": "ipython3",
   "version": "3.11.5"
  }
 },
 "nbformat": 4,
 "nbformat_minor": 2
}
